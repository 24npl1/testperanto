{
 "cells": [
  {
   "cell_type": "markdown",
   "metadata": {},
   "source": [
    "testperanto tutorial 4: our first fake phrases\n",
    "---------------------------------------------------\n",
    "\n",
    "So far we've been focusing on generating individual words in a \"language-like\" manner. In this tutorial, we'll extend this to short adjective-noun phrases. We'll start by generating both nouns and adjectives from independent Pitman-Yor distributions, having chosen parameters that match the statistics of real nouns and adjectives from the English Europarl corpus (using the methodology of Tutorial 3)."
   ]
  },
  {
   "cell_type": "code",
   "execution_count": 1,
   "metadata": {},
   "outputs": [
    {
     "ename": "ModuleNotFoundError",
     "evalue": "No module named 'testperanto'",
     "output_type": "error",
     "traceback": [
      "\u001b[0;31m---------------------------------------------------------------------------\u001b[0m",
      "\u001b[0;31mModuleNotFoundError\u001b[0m                       Traceback (most recent call last)",
      "Cell \u001b[0;32mIn[1], line 10\u001b[0m\n\u001b[1;32m      1\u001b[0m config \u001b[38;5;241m=\u001b[39m {\u001b[38;5;124m\"\u001b[39m\u001b[38;5;124mgrammar\u001b[39m\u001b[38;5;124m\"\u001b[39m: [\n\u001b[1;32m      2\u001b[0m             {\u001b[38;5;124m\"\u001b[39m\u001b[38;5;124mrule\u001b[39m\u001b[38;5;124m\"\u001b[39m: \u001b[38;5;124m\"\u001b[39m\u001b[38;5;124mSTART -> ADJ NN\u001b[39m\u001b[38;5;124m\"\u001b[39m},\n\u001b[1;32m      3\u001b[0m             {\u001b[38;5;124m\"\u001b[39m\u001b[38;5;124mrule\u001b[39m\u001b[38;5;124m\"\u001b[39m: \u001b[38;5;124m\"\u001b[39m\u001b[38;5;124mNN -> (@nn (STEM noun.$z1) (COUNT sng))\u001b[39m\u001b[38;5;124m\"\u001b[39m, \u001b[38;5;124m\"\u001b[39m\u001b[38;5;124mzdists\u001b[39m\u001b[38;5;124m\"\u001b[39m: [\u001b[38;5;124m\"\u001b[39m\u001b[38;5;124mnn\u001b[39m\u001b[38;5;124m\"\u001b[39m]},\n\u001b[0;32m   (...)\u001b[0m\n\u001b[1;32m      8\u001b[0m             {\u001b[38;5;124m\"\u001b[39m\u001b[38;5;124mname\u001b[39m\u001b[38;5;124m\"\u001b[39m: \u001b[38;5;124m\"\u001b[39m\u001b[38;5;124madj\u001b[39m\u001b[38;5;124m\"\u001b[39m, \u001b[38;5;124m\"\u001b[39m\u001b[38;5;124mtype\u001b[39m\u001b[38;5;124m\"\u001b[39m: \u001b[38;5;124m\"\u001b[39m\u001b[38;5;124mpyor\u001b[39m\u001b[38;5;124m\"\u001b[39m, \u001b[38;5;124m\"\u001b[39m\u001b[38;5;124mdiscount\u001b[39m\u001b[38;5;124m\"\u001b[39m: \u001b[38;5;241m0.4\u001b[39m, \u001b[38;5;124m\"\u001b[39m\u001b[38;5;124mstrength\u001b[39m\u001b[38;5;124m\"\u001b[39m: \u001b[38;5;241m500.0\u001b[39m}\n\u001b[1;32m      9\u001b[0m           ]}\n\u001b[0;32m---> 10\u001b[0m \u001b[38;5;28;01mfrom\u001b[39;00m \u001b[38;5;21;01mtestperanto\u001b[39;00m\u001b[38;5;21;01m.\u001b[39;00m\u001b[38;5;21;01mconfig\u001b[39;00m \u001b[38;5;28;01mimport\u001b[39;00m init_wrig, generate_sentences\n\u001b[1;32m     11\u001b[0m generate_sentences(init_wrig(config), start_state\u001b[38;5;241m=\u001b[39m\u001b[38;5;124m'\u001b[39m\u001b[38;5;124mSTART\u001b[39m\u001b[38;5;124m'\u001b[39m, num_to_generate\u001b[38;5;241m=\u001b[39m\u001b[38;5;241m5\u001b[39m)\n",
      "\u001b[0;31mModuleNotFoundError\u001b[0m: No module named 'testperanto'"
     ]
    }
   ],
   "source": [
    "config = {\"grammar\": [\n",
    "            {\"rule\": \"START -> ADJ NN\"},\n",
    "            {\"rule\": \"NN -> (@nn (STEM noun.$z1) (COUNT sng))\", \"zdists\": [\"nn\"]},\n",
    "            {\"rule\": \"ADJ -> (@adj (STEM adj.$z1))\", \"zdists\": [\"adj\"]}\n",
    "          ],\n",
    "          \"distributions\": [\n",
    "            {\"name\": \"nn\", \"type\": \"pyor\", \"discount\": 0.4, \"strength\": 500.0},\n",
    "            {\"name\": \"adj\", \"type\": \"pyor\", \"discount\": 0.4, \"strength\": 500.0}\n",
    "          ]}\n",
    "from testperanto.config import init_wrig, generate_sentences\n",
    "generate_sentences(init_wrig(config), start_state='START', num_to_generate=5)"
   ]
  },
  {
   "cell_type": "markdown",
   "metadata": {},
   "source": [
    "Now let's see how \"natural\" these generated adjective-noun pairs are. We'll use the same approach that we previously used in Tutorial 3, and compare the singleton proportion of our generated phrases with the singleton proportion of actual adjective-noun phrases extracted from the Europarl corpus."
   ]
  },
  {
   "cell_type": "code",
   "execution_count": null,
   "metadata": {},
   "outputs": [],
   "source": [
    "%matplotlib inline\n",
    "from testperanto.analysis import plot_singleton_proportion\n",
    "from testperanto.util import stream_lines\n",
    "\n",
    "independent = generate_sentences(init_wrig(config), start_state='START', num_to_generate=100000)\n",
    "europarl_en = stream_lines('./europarl.en.amod.100k.txt')\n",
    "plot_singleton_proportion([europarl_en, independent], ['europarl_en', 'independent'])"
   ]
  },
  {
   "cell_type": "markdown",
   "metadata": {},
   "source": [
    "Looks like generating the adjectives and nouns independently doesn't look language-like at all!\n",
    "The \"real English\" Europarl curve shows a steady log-linear degradation in singleton proportion, while the \"generated English\" curve does not.\n",
    "\n",
    "The problem is the fact that we're generating adjectives and nouns from independent distributions. Just because the adjective `red` is more likely than the adjective `yellow`, that shouldn't mean that the bigram `red banana` is more likely than the bigram `yellow banana`. \n",
    "\n",
    "It would be nice if we could generate the adjective from a distribution that depends on the choice of noun. Luckily we can use our y- and z-variables to do so! In addition to our independent noun and adjective distributions, we introduce a **indexed distribution** `adj.$y1` that generates distributions that are dependent on the choice of noun `$y1`. For instance, `adj.1` will be the adjective distribution we use for `noun.1`, `adj.2` will be the adjective distribution we use for `noun.2`. To ensure that each distribution still uses the same set of adjectives, each distribution `adj.$y1` is a Pitman-Yor process whose base distribution is `adj` (this happens implicitly -- `testperanto` assumes that the base distribution of a distribution named `a.b.c` is `a.b` and the base distribution of a distribution named `a.b.` is `a`).\n",
    "\n"
   ]
  },
  {
   "cell_type": "code",
   "execution_count": null,
   "metadata": {},
   "outputs": [],
   "source": [
    "config = {\"grammar\": [\n",
    "            {\"rule\": \"START -> NP.$z1\", \"zdists\": [\"nn\"]},\n",
    "            {\"rule\": \"NP.$y1 -> ADJ.$z1 NN.$y1\", \"zdists\": [\"adj.$y1\"]},\n",
    "            {\"rule\": \"NN.$y1 -> (@nn (STEM noun.$y1) (COUNT sng))\"},\n",
    "            {\"rule\": \"ADJ.$y1 -> (@adj (STEM adj.$y1))\"}\n",
    "          ],\n",
    "          \"distributions\": [\n",
    "            {\"name\": \"nn\", \"type\": \"pyor\", \"discount\": 0.4, \"strength\": 500.0},\n",
    "            {\"name\": \"adj\", \"type\": \"pyor\", \"discount\": 0.4, \"strength\": 500.0},\n",
    "            {\"name\": \"adj.$y1\", \"type\": \"pyor\", \"discount\": 0.6, \"strength\": 2.0}\n",
    "          ]}\n",
    "generate_sentences(init_wrig(config), start_state='START', num_to_generate=5)\n"
   ]
  },
  {
   "cell_type": "markdown",
   "metadata": {},
   "source": [
    "It turns out that these newly dependent adjective-noun pairs do a much better job of emulating the singleton proportion statistics of natural language."
   ]
  },
  {
   "cell_type": "code",
   "execution_count": null,
   "metadata": {},
   "outputs": [],
   "source": [
    "dependent = generate_sentences(init_wrig(config), start_state='START', num_to_generate=100000)\n",
    "europarl_en = stream_lines('./europarl.en.amod.100k.txt')\n",
    "plot_singleton_proportion([europarl_en, independent, dependent], ['europarl_en', 'independent', 'dependent'])"
   ]
  },
  {
   "cell_type": "code",
   "execution_count": null,
   "metadata": {},
   "outputs": [],
   "source": []
  }
 ],
 "metadata": {
  "kernelspec": {
   "display_name": "Python 3 (ipykernel)",
   "language": "python",
   "name": "python3"
  },
  "language_info": {
   "codemirror_mode": {
    "name": "ipython",
    "version": 3
   },
   "file_extension": ".py",
   "mimetype": "text/x-python",
   "name": "python",
   "nbconvert_exporter": "python",
   "pygments_lexer": "ipython3",
   "version": "3.8.8"
  }
 },
 "nbformat": 4,
 "nbformat_minor": 2
}
