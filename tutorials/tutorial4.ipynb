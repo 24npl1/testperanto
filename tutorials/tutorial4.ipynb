{
 "cells": [
  {
   "cell_type": "markdown",
   "metadata": {},
   "source": [
    "testperanto tutorial 4: our first fake phrases\n",
    "---------------------------------------------------\n",
    "\n",
    "So far we've been focusing on generating individual words in a \"language-like\" manner. In this tutorial, we'll extend this to short adjective-noun phrases. We'll start by generating both nouns and adjectives from independent Pitman-Yor distributions, having chosen parameters that match the statistics of real nouns and adjectives from the English Europarl corpus (using the methodology of Tutorial 3)."
   ]
  },
  {
   "cell_type": "code",
   "execution_count": null,
   "metadata": {},
   "outputs": [],
   "source": [
    "config = {\"grammar\": [\n",
    "            {\"rule\": \"START -> ADJ NN\"},\n",
    "            {\"rule\": \"NN -> (@nn (STEM noun.$z1) (COUNT sng))\", \"zdists\": [\"nn\"]},\n",
    "            {\"rule\": \"ADJ -> (@adj (STEM adj.$z1))\", \"zdists\": [\"adj\"]}\n",
    "          ],\n",
    "          \"distributions\": [\n",
    "            {\"name\": \"nn\", \"type\": \"pyor\", \"discount\": 0.4, \"strength\": 500.0},\n",
    "            {\"name\": \"adj\", \"type\": \"pyor\", \"discount\": 0.4, \"strength\": 500.0}\n",
    "          ]}\n",
    "from testperanto.config import init_wrig, generate_sentences\n",
    "generate_sentences(init_wrig(config), start_state='START', num_to_generate=5)"
   ]
  },
  {
   "cell_type": "markdown",
   "metadata": {},
   "source": [
    "Now let's see how \"natural\" these generated adjective-noun pairs are. We'll use the same approach that we previously used in Tutorial 3, and compare the singleton proportion of our generated phrases with the singleton proportion of actual adjective-noun phrases extracted from the Europarl corpus."
   ]
  },
  {
   "cell_type": "code",
   "execution_count": null,
   "metadata": {},
   "outputs": [],
   "source": [
    "%matplotlib inline\n",
    "from testperanto.analysis import plot_singleton_proportion\n",
    "from testperanto.util import stream_lines\n",
    "\n",
    "independent = generate_sentences(init_wrig(config), start_state='START', num_to_generate=100000)\n",
    "europarl_en = stream_lines('../data/europarl.en.amod.100k.txt')\n",
    "plot_singleton_proportion([europarl_en, independent], ['europarl_en', 'independent'])"
   ]
  },
  {
   "cell_type": "markdown",
   "metadata": {},
   "source": [
    "Looks like generating the adjectives and nouns independently doesn't look language-like at all!\n",
    "The \"real English\" Europarl curve shows a steady log-linear degradation in singleton proportion, while the \"generated English\" curve does not.\n",
    "\n",
    "The problem is the fact that we're generating adjectives and nouns from independent distributions. Just because the adjective `red` is more likely than the adjective `yellow`, that shouldn't mean that the bigram `red banana` is more likely than the bigram `yellow banana`. \n",
    "\n",
    "It would be nice if we could generate the adjective from a distribution that depends on the choice of noun. Luckily we can use our y- and z-variables to do so! In addition to our independent noun and adjective distributions, we introduce a **indexed distribution** `adj.$y1` that generates distributions that are dependent on the choice of noun `$y1`. For instance, `adj.1` will be the adjective distribution we use for `noun.1`, `adj.2` will be the adjective distribution we use for `noun.2`. To ensure that each distribution still uses the same set of adjectives, each distribution `adj.$y1` is a Pitman-Yor process whose base distribution is `adj` (this happens implicitly -- `testperanto` assumes that the base distribution of a distribution named `a.b.c` is `a.b` and the base distribution of a distribution named `a.b.` is `a`).\n",
    "\n"
   ]
  },
  {
   "cell_type": "code",
   "execution_count": null,
   "metadata": {},
   "outputs": [],
   "source": [
    "config = {\"grammar\": [\n",
    "            {\"rule\": \"START -> NP.$z1\", \"zdists\": [\"nn\"]},\n",
    "            {\"rule\": \"NP.$y1 -> ADJ.$z1 NN.$y1\", \"zdists\": [\"adj.$y1\"]},\n",
    "            {\"rule\": \"NN.$y1 -> (@nn (STEM noun.$y1) (COUNT sng))\"},\n",
    "            {\"rule\": \"ADJ.$y1 -> (@adj (STEM adj.$y1))\"}\n",
    "          ],\n",
    "          \"distributions\": [\n",
    "            {\"name\": \"nn\", \"type\": \"pyor\", \"discount\": 0.4, \"strength\": 500.0},\n",
    "            {\"name\": \"adj\", \"type\": \"pyor\", \"discount\": 0.4, \"strength\": 500.0},\n",
    "            {\"name\": \"adj.$y1\", \"type\": \"pyor\", \"discount\": 0.6, \"strength\": 2.0}\n",
    "          ]}\n",
    "generate_sentences(init_wrig(config), start_state='START', num_to_generate=5)\n"
   ]
  },
  {
   "cell_type": "markdown",
   "metadata": {},
   "source": [
    "It turns out that these newly dependent adjective-noun pairs do a much better job of emulating the singleton proportion statistics of natural language."
   ]
  },
  {
   "cell_type": "code",
   "execution_count": null,
   "metadata": {},
   "outputs": [],
   "source": [
    "dependent = generate_sentences(init_wrig(config), start_state='START', num_to_generate=100000)\n",
    "europarl_en = stream_lines('../data/europarl.en.amod.100k.txt')\n",
    "plot_singleton_proportion([europarl_en, independent, dependent], ['europarl_en', 'independent', 'dependent'])"
   ]
  },
  {
   "cell_type": "code",
   "execution_count": null,
   "metadata": {},
   "outputs": [],
   "source": []
  }
 ],
 "metadata": {
  "kernelspec": {
   "display_name": "Python 3 (ipykernel)",
   "language": "python",
   "name": "python3"
  },
  "language_info": {
   "codemirror_mode": {
    "name": "ipython",
    "version": 3
   },
   "file_extension": ".py",
   "mimetype": "text/x-python",
   "name": "python",
   "nbconvert_exporter": "python",
   "pygments_lexer": "ipython3",
   "version": "3.8.13"
  }
 },
 "nbformat": 4,
 "nbformat_minor": 2
}
