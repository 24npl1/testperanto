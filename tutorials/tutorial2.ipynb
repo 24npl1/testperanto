{
 "cells": [
  {
   "cell_type": "markdown",
   "metadata": {},
   "source": [
    "testperanto tutorial 2: in which we get lazy\n",
    "--------------------------------------------------\n",
    "\n",
    "One issue with the grammars from Tutorial 1 is that we had to explicitly specify generic words like ```noun.34``` and ```verb.281```. It would be simpler to just have the computer generate these generic words from a template. \n",
    "\n",
    "We do so by replacing rules with a more general form called a **rule macro**. "
   ]
  },
  {
   "cell_type": "code",
   "execution_count": 7,
   "metadata": {},
   "outputs": [],
   "source": [
    "from testperanto.config import init_grammar_macro, generate_sentences\n",
    "\n",
    "config = {\"grammar\": [\n",
    "            {\"rule\": \"START -> NN\"},\n",
    "            {\"rule\": \"NN -> (@nn (STEM noun.$z1) (COUNT sng))\", \"zdists\": [\"nn\"]}\n",
    "          ],\n",
    "          \"distributions\": [\n",
    "            {\"name\": \"nn\", \"type\": \"uniform\", \"domain\": [1, 2, 3]}\n",
    "          ]}\n",
    "grammar = init_grammar_macro(config)"
   ]
  },
  {
   "cell_type": "markdown",
   "metadata": {},
   "source": [
    "The rule macro:\n",
    "\n",
    "     NN -> (@nn (STEM noun.$z1) (COUNT sng)) \n",
    "     \n",
    "introduces the variable `$z1` and implicitly represents all of the rules we could obtain by substituting in for `$z1`. But this raises two questions:\n",
    "\n",
    "1. What can we substitute in?\n",
    "2. What are the weights of the expanded rules?\n",
    "\n",
    "To answer these questions, we associate `$z1` with a distribution called `nn`. In this case, we have specified that the `nn` distribution is a uniform distribution over the integers from 1 to 3, by providing a key called `zdists` associated with a list of distributions. Each distribution in this list corresponds to a z-variable, starting with `$z1`, `$z2`, etc. Thus the macro `$qnc -> (NC nc.$z1)` abbreviates the 3 rules:\n",
    "\n",
    "    NN -> (@nn (STEM noun.1) (COUNT sng)) \n",
    "    NN -> (@nn (STEM noun.2) (COUNT sng)) \n",
    "    NN -> (@nn (STEM noun.3) (COUNT sng)) \n",
    "\n",
    "The weight of each rule is the baseweight of the macro (recall that this defaults to `1.0`) multiplied by the probability of its instantiation of `$z1` according to distribution `nn`. Thus, each rule has the weight `1/3`. Therefore, if we generate sentences from this grammar, we should obtain three different words in roughly equal proportion."
   ]
  },
  {
   "cell_type": "code",
   "execution_count": 8,
   "metadata": {},
   "outputs": [
    {
     "name": "stderr",
     "output_type": "stream",
     "text": [
      "100%|██████████████████████████████████████████████████| 10/10 [00:00<00:00, 3374.88it/s]"
     ]
    },
    {
     "name": "stdout",
     "output_type": "stream",
     "text": [
      "mofruglolal\n",
      "dulahot\n",
      "mofruglolal\n",
      "dulahot\n",
      "mofruglolal\n",
      "mofruglolal\n",
      "mofruglolal\n",
      "leefrijod\n",
      "dulahot\n",
      "dulahot\n"
     ]
    },
    {
     "name": "stderr",
     "output_type": "stream",
     "text": [
      "\n"
     ]
    }
   ],
   "source": [
    "for sent in generate_sentences(grammar, start_state='START', num_to_generate=10):\n",
    "    print(sent)"
   ]
  },
  {
   "cell_type": "markdown",
   "metadata": {},
   "source": [
    "Rule macros can contain two different types of variables:\n",
    "- **y-variables**: which can appear on both the left and right sides of a macro, and are **never** associated with a distribution\n",
    "- **z-variables**: which can only appear on the right side of a macro, and **must** be associated with a distribution\n",
    "\n",
    "The role of y-variables can be seen in the following example:"
   ]
  },
  {
   "cell_type": "code",
   "execution_count": 9,
   "metadata": {},
   "outputs": [
    {
     "name": "stderr",
     "output_type": "stream",
     "text": [
      "100%|██████████████████████████████████████████████████| 10/10 [00:00<00:00, 2334.97it/s]"
     ]
    },
    {
     "name": "stdout",
     "output_type": "stream",
     "text": [
      "chifraludish foglurs\n",
      "chifraludish foglurs\n",
      "chifraludish foglurs\n",
      "chofilugish flacochamafs\n",
      "chifraludish foglurs\n",
      "chofilugish flacochamafs\n",
      "chofilugish flacochamafs\n",
      "chifraludish foglurs\n",
      "chofilugish flacochamafs\n",
      "chofilugish flacochamafs\n"
     ]
    },
    {
     "name": "stderr",
     "output_type": "stream",
     "text": [
      "\n"
     ]
    }
   ],
   "source": [
    "from testperanto.config import init_grammar_macro, generate_sentences\n",
    "\n",
    "config = {\"grammar\": [\n",
    "            {\"rule\": \"START -> ADJ.$z1 NN.$z1\", \"zdists\": [\"unif\"]},\n",
    "            {\"rule\": \"ADJ.$y1 -> (@adj (STEM adj.$y1))\"},\n",
    "            {\"rule\": \"NN.$y1 -> (@nn (STEM noun.$y1) (COUNT plu))\"}\n",
    "          ],\n",
    "          \"distributions\": [\n",
    "            {\"name\": \"unif\", \"type\": \"uniform\", \"domain\": [1, 2]}\n",
    "          ]}\n",
    "grammar = init_grammar_macro(config)\n",
    "for sent in generate_sentences(grammar, start_state='START', num_to_generate=10):\n",
    "    print(sent)"
   ]
  },
  {
   "cell_type": "markdown",
   "metadata": {},
   "source": [
    "Observe that the same adjective always appears with the same noun, because the y-variables ensure the correspondence. The first macro \n",
    "\n",
    "    START -> ADJ.$z1 NN.$z1\n",
    "    \n",
    "encodes the two rules:\n",
    "\n",
    "    START -> ADJ.1 NN.1\n",
    "    START -> ADJ.2 NN.2\n",
    "\n",
    "And then the y-variables in the second and third macros propagate this information. For instance, the second macro\n",
    "\n",
    "    ADJ.$y1 -> (@adj (STEM adj.$y1))\n",
    "    \n",
    "encodes the rules:\n",
    "\n",
    "    ADJ.1 -> (@adj (STEM adj.1))\n",
    "    ADJ.2 -> (@adj (STEM adj.2))\n",
    "    \n",
    "whereas the third macro\n",
    "\n",
    "    NN.$y1 -> (@nn (STEM noun.$y1) (COUNT plu))\n",
    "\n",
    "encodes the rules:\n",
    "\n",
    "    NN.1 -> (@nn (STEM noun.1) (COUNT plu))\n",
    "    NN.2 -> (@nn (STEM noun.2) (COUNT plu))\n",
    "    \n",
    "**Important:** there is no need to specify a domain or distribution for y-variables. They will automatically match any nonterminal of that form that is constructed during a CFG derivation."
   ]
  },
  {
   "cell_type": "code",
   "execution_count": null,
   "metadata": {},
   "outputs": [],
   "source": []
  }
 ],
 "metadata": {
  "kernelspec": {
   "display_name": "Python 3 (ipykernel)",
   "language": "python",
   "name": "python3"
  },
  "language_info": {
   "codemirror_mode": {
    "name": "ipython",
    "version": 3
   },
   "file_extension": ".py",
   "mimetype": "text/x-python",
   "name": "python",
   "nbconvert_exporter": "python",
   "pygments_lexer": "ipython3",
   "version": "3.8.11"
  }
 },
 "nbformat": 4,
 "nbformat_minor": 2
}
