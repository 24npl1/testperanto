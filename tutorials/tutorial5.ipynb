{
 "cells": [
  {
   "cell_type": "markdown",
   "metadata": {},
   "source": [
    "testperanto tutorial 5: our first fake sentences\n",
    "------------------------------------------------------\n",
    "\n",
    "In this tutorial, we will show how to use `testperanto` to generate simple declarative sentences inspired by German grammar. As a first step, we will build a word generator whose role is to create novel German-esque words. We start by providing a list of syllables to a `ListBasedWordGenerator`, which will generate a syllable uniformly at random when we call its `.generate` method."
   ]
  },
  {
   "cell_type": "code",
   "execution_count": 1,
   "metadata": {},
   "outputs": [
    {
     "name": "stdout",
     "output_type": "stream",
     "text": [
      "lag\n",
      "run\n",
      "nach\n",
      "lang\n",
      "lag\n"
     ]
    }
   ],
   "source": [
    "from testperanto.wordgenerators import ListBasedWordGenerator, AtomBasedWordGenerator\n",
    "from testperanto.distributions import CategoricalDistribution\n",
    "\n",
    "german_syllables = ['flach', 'stau', 'bei', 'der', 'dich', 'dung', 'mein', \n",
    "                    'fin', 'frisch', 'frau', 'geh', 'glied', 'gun', 'gnug' 'haf', 'han', 'heim'\n",
    "                    'her', 'herr', 'hub', 'lag', 'hung', 'jahr', 'keit', 'kol', 'kom', 'kenn',\n",
    "                    'kon', 'lang', 'lich', 'ler', 'lung', 'man', 'mensch', 'milch', 'mon', 'nach', \n",
    "                    'nied', 'par', 'rech', 'rich', 'run', 'rung', 'schlag', 'sam', \n",
    "                    'schmid', 'sich', 'ster', 'sung', 'tag', 'tel', 'ter', 'tik', 'trum', 'tun', \n",
    "                    'tung', 'run', 'ver', 'vor', 'wir', 'wohn', 'zer', 'ziem', 'zum']\n",
    "\n",
    "syllable_generator = ListBasedWordGenerator(german_syllables)\n",
    "for _ in range(5):\n",
    "    print(syllable_generator.generate())"
   ]
  },
  {
   "cell_type": "markdown",
   "metadata": {},
   "source": [
    "Next, we construct an `AtomBasedWordGenerator`, whose constructor takes two arguments:\n",
    "1. A WordGenerator that produces atomic building blocks.\n",
    "2. A Distribution over word lengths (i.e. how many atoms to concatenate into a word)"
   ]
  },
  {
   "cell_type": "code",
   "execution_count": 2,
   "metadata": {},
   "outputs": [
    {
     "name": "stdout",
     "output_type": "stream",
     "text": [
      "nachtag\n",
      "stertunrung\n",
      "kolruntun\n",
      "nachkeit\n",
      "schlaglung\n"
     ]
    }
   ],
   "source": [
    "stem_generator = AtomBasedWordGenerator(syllable_generator,\n",
    "                                        CategoricalDistribution([0, 0, 0.4, 0.4, 0.1]))\n",
    "\n",
    "for _ in range(5):\n",
    "    print(stem_generator.generate())"
   ]
  },
  {
   "cell_type": "markdown",
   "metadata": {},
   "source": [
    "Seems to be generating some German-isch words! Let's register the WordGenerator with testperanto, so we can more easily use it to generate German word stems."
   ]
  },
  {
   "cell_type": "code",
   "execution_count": 3,
   "metadata": {},
   "outputs": [],
   "source": [
    "from testperanto.wordgenerators import register_word_generator\n",
    "\n",
    "register_word_generator(\"german-stems\", stem_generator) "
   ]
  },
  {
   "cell_type": "markdown",
   "metadata": {},
   "source": [
    "Once we've registered it, we can easily access it using the `lookup_word_generator` function."
   ]
  },
  {
   "cell_type": "code",
   "execution_count": 4,
   "metadata": {},
   "outputs": [
    {
     "name": "stdout",
     "output_type": "stream",
     "text": [
      "runrechterdung\n",
      "hublagpar\n",
      "zerschlaggun\n",
      "flachjahr\n",
      "mansam\n"
     ]
    }
   ],
   "source": [
    "from testperanto.wordgenerators import lookup_word_generator\n",
    "\n",
    "wordgen = lookup_word_generator(\"german-stems\")\n",
    "for _ in range(5):\n",
    "    print(wordgen.generate())"
   ]
  },
  {
   "cell_type": "markdown",
   "metadata": {},
   "source": [
    "Now that we can generate words, let's create a *voicebox*. The role of the voicebox is to render generic word descriptions into actual words. By \"generic word description,\" we mean something like the following tree."
   ]
  },
  {
   "cell_type": "code",
   "execution_count": 5,
   "metadata": {},
   "outputs": [
    {
     "name": "stdout",
     "output_type": "stream",
     "text": [
      "(@nn (STEM noun.27) (COUNT plu))\n"
     ]
    }
   ],
   "source": [
    "from testperanto.trees import TreeNode\n",
    "tree = TreeNode.from_str(\"(@nn (STEM noun.27) (COUNT plu))\")\n",
    "print(tree)"
   ]
  },
  {
   "cell_type": "markdown",
   "metadata": {},
   "source": [
    "This is an abstract way to say \"the 27th noun of our vocabulary, expressed as a plural.\" To render this, we can use a `MorphologyVoicebox`."
   ]
  },
  {
   "cell_type": "code",
   "execution_count": 6,
   "metadata": {},
   "outputs": [
    {
     "name": "stdout",
     "output_type": "stream",
     "text": [
      "dergnughaf\n"
     ]
    }
   ],
   "source": [
    "from testperanto.voicebox import MorphologyVoicebox\n",
    "\n",
    "vbox = MorphologyVoicebox(lookup_word_generator('german-stems'))\n",
    "print(vbox.run(tree))"
   ]
  },
  {
   "cell_type": "markdown",
   "metadata": {},
   "source": [
    "The `MorphologyVoicebox` will remember that `noun.27` is associated with the chosen word, so if we run it again, we get the same thing, but if we try a different noun (like `noun.39`), it will come up with a new word."
   ]
  },
  {
   "cell_type": "code",
   "execution_count": 7,
   "metadata": {},
   "outputs": [
    {
     "name": "stdout",
     "output_type": "stream",
     "text": [
      "dergnughaf\n",
      "ziemfin\n"
     ]
    }
   ],
   "source": [
    "print(vbox.run(TreeNode.from_str(\"(@nn (STEM noun.27) (COUNT plu))\")))\n",
    "print(vbox.run(TreeNode.from_str(\"(@nn (STEM noun.39) (COUNT plu))\")))"
   ]
  },
  {
   "cell_type": "markdown",
   "metadata": {},
   "source": [
    "So far we haven't done anything to express the fact that the nouns are plural. In English, this is typically done by adding the letter \"s\". A `MorphologyVoicebox` allows us to specify morphers that sequentially modify a stem to express syntactic properties like plurality."
   ]
  },
  {
   "cell_type": "code",
   "execution_count": 8,
   "metadata": {},
   "outputs": [
    {
     "name": "stdout",
     "output_type": "stream",
     "text": [
      "telkennsich\n",
      "telkennsichs\n"
     ]
    }
   ],
   "source": [
    "from testperanto.morphology import EnglishNounMorpher\n",
    "\n",
    "vbox = MorphologyVoicebox(lookup_word_generator('german-stems'), [EnglishNounMorpher()])\n",
    "print(vbox.run(TreeNode.from_str(\"(@nn (STEM noun.21) (COUNT sng))\")))\n",
    "print(vbox.run(TreeNode.from_str(\"(@nn (STEM noun.21) (COUNT plu))\")))"
   ]
  },
  {
   "cell_type": "markdown",
   "metadata": {},
   "source": [
    "But German, although it sometimes uses \"s\" as a plural, more often uses other endings, like \"en\". We can create a custom morpher as follows:"
   ]
  },
  {
   "cell_type": "code",
   "execution_count": 9,
   "metadata": {},
   "outputs": [
    {
     "name": "stdout",
     "output_type": "stream",
     "text": [
      "tagmein\n",
      "tagmeinen\n"
     ]
    }
   ],
   "source": [
    "from testperanto.morphology import SuffixMorpher\n",
    "\n",
    "noun_morpher = SuffixMorpher(property_names=['COUNT'],\n",
    "                             suffix_map={('sng',): '', ('plu',): 'en'})\n",
    "vbox = MorphologyVoicebox(lookup_word_generator('german-stems'), [noun_morpher])\n",
    "print(vbox.run(TreeNode.from_str(\"(@nn (STEM noun.47) (COUNT sng))\")))\n",
    "print(vbox.run(TreeNode.from_str(\"(@nn (STEM noun.47) (COUNT plu))\")))"
   ]
  },
  {
   "cell_type": "markdown",
   "metadata": {},
   "source": [
    "German verbs acquire suffixes based on the person (1st, 2nd, 3rd) and the count (sng, plu). We can create another morpher and voicebox for verbs."
   ]
  },
  {
   "cell_type": "code",
   "execution_count": 10,
   "metadata": {},
   "outputs": [
    {
     "name": "stdout",
     "output_type": "stream",
     "text": [
      "ich hanheimhere\n",
      "du  hanheimherst\n",
      "es  hanheimhert\n",
      "wir hanheimheren\n",
      "ihr hanheimhert\n",
      "sie hanheimheren\n"
     ]
    }
   ],
   "source": [
    "verb_morpher = SuffixMorpher(property_names=['PERSON', 'COUNT'],\n",
    "                             suffix_map={('1', 'sng'): 'e', ('1', 'plu'): 'en',\n",
    "                                         ('2', 'sng'): 'st', ('2', 'plu'): 't',\n",
    "                                         ('3', 'sng'): 't', ('3', 'plu'): 'en'})\n",
    "vbox = MorphologyVoicebox(lookup_word_generator('german-stems'), [verb_morpher])\n",
    "print(\"ich \" + str(vbox.run(TreeNode.from_str(\"(@vb (STEM verb.47) (PERSON 1) (COUNT sng))\"))))\n",
    "print(\"du  \" + str(vbox.run(TreeNode.from_str(\"(@vb (STEM verb.47) (PERSON 2) (COUNT sng))\"))))\n",
    "print(\"es  \" + str(vbox.run(TreeNode.from_str(\"(@vb (STEM verb.47) (PERSON 3) (COUNT sng))\"))))\n",
    "print(\"wir \" + str(vbox.run(TreeNode.from_str(\"(@vb (STEM verb.47) (PERSON 1) (COUNT plu))\"))))\n",
    "print(\"ihr \" + str(vbox.run(TreeNode.from_str(\"(@vb (STEM verb.47) (PERSON 2) (COUNT plu))\"))))\n",
    "print(\"sie \" + str(vbox.run(TreeNode.from_str(\"(@vb (STEM verb.47) (PERSON 3) (COUNT plu))\"))))"
   ]
  },
  {
   "cell_type": "markdown",
   "metadata": {},
   "source": [
    "We can capture these two voicebox functionalities by creating a `ManagingVoicebox`, which delegates the rendering of generic word representations to helper voiceboxes."
   ]
  },
  {
   "cell_type": "code",
   "execution_count": 11,
   "metadata": {},
   "outputs": [
    {
     "name": "stdout",
     "output_type": "stream",
     "text": [
      "(S vorrichschlag schmidmont)\n",
      "(S vorrichschlagen schmidmonen)\n"
     ]
    }
   ],
   "source": [
    "from testperanto.voicebox import ManagingVoicebox\n",
    "\n",
    "vbox = ManagingVoicebox()\n",
    "vbox.delegate('vb', MorphologyVoicebox(lookup_word_generator('german-stems'), \n",
    "                                       morphers=[verb_morpher]))\n",
    "vbox.delegate('nn', MorphologyVoicebox(lookup_word_generator('german-stems'), \n",
    "                                       morphers=[noun_morpher]))\n",
    "\n",
    "tree = TreeNode.from_str(\"(S (@nn (STEM noun.76) (COUNT sng)) (@vb (STEM verb.22) (PERSON 3) (COUNT sng)))\")\n",
    "print(vbox.run(tree))\n",
    "tree = TreeNode.from_str(\"(S (@nn (STEM noun.76) (COUNT plu)) (@vb (STEM verb.22) (PERSON 3) (COUNT plu)))\")\n",
    "print(vbox.run(tree))"
   ]
  },
  {
   "cell_type": "markdown",
   "metadata": {},
   "source": [
    "Finally, we'll add a voicebox to generate German determiners, and wrap it all up as a *voicebox theme*. German determiners depend both on the *gender* of the noun (German nouns have three genders: masculine, feminine, and neuter) and on the *case* (nominative, accusative, dative, or genitive). We'll take care of gender later. For the time being, we'll assume that the nouns are masculine."
   ]
  },
  {
   "cell_type": "code",
   "execution_count": 12,
   "metadata": {},
   "outputs": [
    {
     "name": "stdout",
     "output_type": "stream",
     "text": [
      "(S (NP (DT der) (NN frischtelsung)) (VB derkomt))\n",
      "(S (NP (DT die) (NN frischtelsungen)) (VB derkomen))\n"
     ]
    }
   ],
   "source": [
    "from testperanto.globals import EMPTY_STR\n",
    "from testperanto.morphology import SuffixMorpher\n",
    "from testperanto.voicebox import VoiceboxTheme, register_voicebox_theme\n",
    "from testperanto.voicebox import ManagingVoicebox, MorphologyVoicebox\n",
    "from testperanto.wordgenerators import lookup_word_generator\n",
    "from testperanto.trees import TreeNode\n",
    "\n",
    "class GermanTheme(VoiceboxTheme):\n",
    "\n",
    "    def init_vbox(self):\n",
    "        vbox = ManagingVoicebox()\n",
    "        verb_morpher = SuffixMorpher(property_names=['PERSON', 'COUNT'],\n",
    "                                     suffix_map={('1', 'sng'): 'e', ('1', 'plu'): 'en',\n",
    "                                                 ('2', 'sng'): 'st', ('2', 'plu'): 't',\n",
    "                                                 ('3', 'sng'): 't', ('3', 'plu'): 'en'})\n",
    "        noun_morpher = SuffixMorpher(property_names=['COUNT'],\n",
    "                                     suffix_map={('sng',): '', ('plu',): 'en'})\n",
    "        dt_morpher = SuffixMorpher(property_names=('COUNT', 'CASE'),\n",
    "                                   suffix_map={('sng', 'nom'): 'der',\n",
    "                                               ('plu', 'nom'): 'die',\n",
    "                                               ('sng', 'acc'): 'den',\n",
    "                                               ('plu', 'acc'): 'die'})\n",
    "        vbox.delegate('vb', MorphologyVoicebox(lookup_word_generator('german-stems'), \n",
    "                                               morphers=[verb_morpher]))\n",
    "        vbox.delegate('nn', MorphologyVoicebox(lookup_word_generator('german-stems'), \n",
    "                                               morphers=[noun_morpher]))\n",
    "        vbox.delegate('dt', MorphologyVoicebox(None, \n",
    "                                               morphers=[dt_morpher]))\n",
    "        return vbox\n",
    "    \n",
    "vbox = GermanTheme().init_vbox()\n",
    "tree = TreeNode.from_str( \"(S\"  \n",
    "                        + \"  (NP\" \n",
    "                        + \"     (DT (@dt (COUNT sng) (CASE nom)))\" \n",
    "                        + \"     (NN (@nn (STEM noun.1) (COUNT sng))))\"\n",
    "                        + \"  (VB (@vb (STEM verb.1) (COUNT sng) (PERSON 3))))\")\n",
    "print(vbox.run(tree))\n",
    "tree = TreeNode.from_str( \"(S\"  \n",
    "                        + \"  (NP\" \n",
    "                        + \"     (DT (@dt (COUNT plu) (CASE nom)))\" \n",
    "                        + \"     (NN (@nn (STEM noun.1) (COUNT plu))))\"\n",
    "                        + \"  (VB (@vb (STEM verb.1) (COUNT plu) (PERSON 3))))\")\n",
    "print(vbox.run(tree))"
   ]
  },
  {
   "cell_type": "markdown",
   "metadata": {},
   "source": [
    "Now let's register this voicebox theme with testperanto, and use it to generate some simple noun phrases. We'll use y- and z-variables to enforce agreement between the determiner and the noun."
   ]
  },
  {
   "cell_type": "code",
   "execution_count": 13,
   "metadata": {},
   "outputs": [
    {
     "name": "stderr",
     "output_type": "stream",
     "text": [
      "100%|█████████████████████████████████████████████████| 10/10 [00:00<00:00, 2631.47it/s]"
     ]
    },
    {
     "name": "stdout",
     "output_type": "stream",
     "text": [
      "die manmantiken\n",
      "der hubterstauder\n",
      "die tungwohnhungen\n",
      "der hubterstauder\n",
      "die manmantiken\n",
      "die tungwohnhungen\n",
      "die wirmonschlaglungen\n",
      "die manmantiken\n",
      "der hubterstauder\n",
      "die sammonteren\n"
     ]
    },
    {
     "name": "stderr",
     "output_type": "stream",
     "text": [
      "\n"
     ]
    }
   ],
   "source": [
    "from testperanto.config import init_grammar_macro, generate_sentences\n",
    "from testperanto.voicebox import register_voicebox_theme\n",
    "register_voicebox_theme(\"deutsch\", GermanTheme)\n",
    "\n",
    "config = {\n",
    "    \"distributions\": [\n",
    "        {\"name\": \"nn\", \"type\": \"pyor\", \"strength\": 1, \"discount\": 0.4},\n",
    "        {\"name\": \"count\", \"type\": \"uniform\", \"domain\": [\"sng\", \"plu\"]}\n",
    "    ],\n",
    "    \"grammar\": [\n",
    "        {\"rule\": \"START -> NP.$z1.nom.$z2\", \"zdists\": [\"nn\", \"count\"]},\n",
    "        {\"rule\": \"NP.$y1.$y2.$y3 -> DT.$y2.$y3 NN.$y1.$y2.$y3\"},\n",
    "        {\"rule\": \"DT.$y1.$y2 -> (@dt (CASE $y1) (COUNT $y2))\"},\n",
    "        {\"rule\": \"NN.$y1.$y2.$y3 -> (@nn (STEM noun.$y1) (CASE $y2) (COUNT $y3))\"}\n",
    "    ]\n",
    "}\n",
    "\n",
    "grammar = init_grammar_macro(config)\n",
    "for sent in generate_sentences(grammar, start_state='START', vbox_theme=\"deutsch\", num_to_generate=10):\n",
    "    print(sent)"
   ]
  },
  {
   "cell_type": "markdown",
   "metadata": {},
   "source": [
    "Note that the plurals are all associated with the plural determiner \"die\", and the singular nouns are all associate with the singular determiner \"der\". We can use the same principles to build simple sentences such that the main verb is conjugated appropriately for the subject, and that the determiners take the nominative form (\"der\", for singular nouns) when they determine the subject, and the accusative form (\"den\", for singular nouns) when they determine the object."
   ]
  },
  {
   "cell_type": "code",
   "execution_count": 14,
   "metadata": {},
   "outputs": [
    {
     "name": "stderr",
     "output_type": "stream",
     "text": [
      "100%|█████████████████████████████████████████████████| 10/10 [00:00<00:00, 1152.47it/s]"
     ]
    },
    {
     "name": "stdout",
     "output_type": "stream",
     "text": [
      "die gunsichen tungschmiden die beikeitbeimilchen\n",
      "der rungternach wirzerdungt den dichrichjahr\n",
      "die fraunachen gnughafstauen den vorver\n",
      "die sichkeiten tagsungen die keitgunkonen\n",
      "die kolfrischen kenntertunen den gunschlag\n",
      "die trummeinglieden tuntikteren die gehmilchwiren\n",
      "die dersungrunlagen keitdungmenschen den menschdichnach\n",
      "die kolgliedlungen hubnieden die tungsungen\n",
      "der lagzumtrum lerlagt die dichzersungen\n",
      "der terlichwir wohnschmidt den gliednach\n"
     ]
    },
    {
     "name": "stderr",
     "output_type": "stream",
     "text": [
      "\n"
     ]
    }
   ],
   "source": [
    "config = {\n",
    "    \"distributions\": [\n",
    "        {\"name\": \"vb\", \"type\": \"pyor\", \"strength\": 500, \"discount\": 0.4},\n",
    "        {\"name\": \"nn\", \"type\": \"pyor\", \"strength\": 500, \"discount\": 0.4},\n",
    "        {\"name\": \"count\", \"type\": \"uniform\", \"domain\": [\"sng\", \"plu\"]}\n",
    "    ],\n",
    "    \"grammar\": [\n",
    "        {\"rule\": \"START -> NP.$z1.nom.$z2 VP.$z1.$z2\", \"zdists\": [\"vb\", \"count\"]},\n",
    "\n",
    "        {\"rule\": \"VP.$y1.$y2 -> VB.$y1.$y2 NP.$z1.acc.$z2\", \"zdists\": [\"nn\", \"count\"]},\n",
    "        {\"rule\": \"NP.$y1.$y2.$y3 -> DT.$y2.$y3 NN.$z1.$y2.$y3\", \"zdists\": [\"nn\"]},\n",
    "        {\"rule\": \"VB.$y1.$y2 -> (@vb (STEM verb.$y1) (COUNT $y2) (PERSON 3) (TENSE present))\"},\n",
    "        {\"rule\": \"DT.$y1.$y2 -> (@dt (CASE $y1) (COUNT $y2))\"},\n",
    "        {\"rule\": \"NN.$y1.$y2.$y3 -> (@nn (STEM noun.$y1) (CASE $y2) (COUNT $y3))\"}\n",
    "    ]\n",
    "}\n",
    "grammar = init_grammar_macro(config)\n",
    "for sent in generate_sentences(grammar, start_state='START', vbox_theme=\"deutsch\", num_to_generate=10):\n",
    "    print(sent)"
   ]
  },
  {
   "cell_type": "markdown",
   "metadata": {},
   "source": [
    "Now let's add gender to our nouns. First we augment our voicebox theme to generate the correct determiners for each combination of case and gender:"
   ]
  },
  {
   "cell_type": "code",
   "execution_count": 15,
   "metadata": {},
   "outputs": [],
   "source": [
    "class GermanTheme(VoiceboxTheme):\n",
    "    \"\"\"A voicebox theme that generates nursery rhyme-esque words.\"\"\"\n",
    "\n",
    "    def init_vbox(self):\n",
    "        vbox = ManagingVoicebox()\n",
    "        verb_morpher = SuffixMorpher(property_names=('COUNT',),\n",
    "                                     suffix_map={('sng',): 'e', ('plu',): 'en'})\n",
    "        noun_morpher = SuffixMorpher(property_names=('COUNT',),\n",
    "                                     suffix_map={('sng',): '', ('plu',): 'en'})\n",
    "        vbox.delegate('vb', MorphologyVoicebox(lookup_word_generator('german-stems'), [verb_morpher]))\n",
    "        vbox.delegate('nn', MorphologyVoicebox(lookup_word_generator('german-stems'), [noun_morpher]))\n",
    "        dt_morph = SuffixMorpher(property_names=('COUNT', 'CASE', 'GENDER'),\n",
    "                                 suffix_map={('sng', 'nom', 'm'): 'der',\n",
    "                                             ('plu', 'nom', 'm'): 'die',\n",
    "                                             ('sng', 'acc', 'm'): 'den',\n",
    "                                             ('plu', 'acc', 'm'): 'die',\n",
    "                                             ('sng', 'nom', 'f'): 'die',\n",
    "                                             ('plu', 'nom', 'f'): 'die',\n",
    "                                             ('sng', 'acc', 'f'): 'die',\n",
    "                                             ('plu', 'acc', 'f'): 'die',\n",
    "                                             ('sng', 'nom', 'n'): 'das',\n",
    "                                             ('plu', 'nom', 'n'): 'die',\n",
    "                                             ('sng', 'acc', 'n'): 'das',\n",
    "                                             ('plu', 'acc', 'n'): 'die'\n",
    "                                             })\n",
    "        vbox.delegate('dt', MorphologyVoicebox(None, [dt_morph]))\n",
    "        return vbox\n",
    "\n",
    "register_voicebox_theme(\"deutsch\", GermanTheme)"
   ]
  },
  {
   "cell_type": "markdown",
   "metadata": {},
   "source": [
    "Then we create distributions over the form `gender.$y1`, where `$y1` is the vocabulary index of a particular noun. To make sure that the same gender is always assigned to a particular noun, we use \"sticky\" distributions, which are distributions which, the first time they are sampled from, sample from a CategoricalDistribution over `{'m', 'f', 'n'}`. Every subsequent time they are sampled from, they return the first sampled value."
   ]
  },
  {
   "cell_type": "code",
   "execution_count": 16,
   "metadata": {},
   "outputs": [],
   "source": [
    "config = {\n",
    "    \"distributions\": [\n",
    "        {\"name\": \"vb\", \"type\": \"pyor\", \"strength\": 500, \"discount\": 0.4},\n",
    "        {\"name\": \"nn\", \"type\": \"pyor\", \"strength\": 1, \"discount\": 0.4},\n",
    "        {\"name\": \"gender.$y1\", \"type\": \"sticky\", \"domain\": [\"m\", \"f\", \"n\"], \"weights\": [0.3, 0.3, 0.4]},\n",
    "        {\"name\": \"count\", \"type\": \"uniform\", \"domain\": [\"sng\", \"plu\"]}\n",
    "    ],\n",
    "    \"grammar\": [\n",
    "        {\"rule\": \"START -> NP.$z1.nom.$z2 VP.$z3.$z2\", \"zdists\": [\"nn\", \"count\", \"vb\"]},\n",
    "        {\"rule\": \"VP.$y1.$y2 -> VB.$y1.$y2 NP.$z1.acc.$z2\", \"zdists\": [\"nn\", \"count\"]},\n",
    "        {\"rule\": \"NP.$y1.$y2.$y3 -> DT.$y2.$y3.$z1 NN.$y1.$y2.$y3.$z1\", \"zdists\": [\"gender.$y1\"]},\n",
    "        {\"rule\": \"VB.$y1.$y2 -> (@vb (STEM verb.$y1) (COUNT $y2) (PERSON 3) (TENSE present))\"},\n",
    "        {\"rule\": \"DT.$y1.$y2.$y3 -> (@dt (CASE $y1) (COUNT $y2) (GENDER $y3))\"},\n",
    "        {\"rule\": \"DT.$y1.$y2.$y3 -> (@dt (CASE $y1) (COUNT $y2) (GENDER $y3))\"},\n",
    "        {\"rule\": \"NN.$y1.$y2.$y3.$y4 -> (@nn (STEM noun.$y1) (CASE $y2) (COUNT $y3) (GENDER $y4))\"}\n",
    "    ]\n",
    "}\n"
   ]
  },
  {
   "cell_type": "code",
   "execution_count": 17,
   "metadata": {},
   "outputs": [
    {
     "name": "stderr",
     "output_type": "stream",
     "text": [
      "100%|██████████████████████████████████████████████████| 10/10 [00:00<00:00, 968.06it/s]"
     ]
    },
    {
     "name": "stdout",
     "output_type": "stream",
     "text": [
      "die langhanen gunsamen die herrmonen\n",
      "die dunggnughafmenschen manmanvoren das gliedkeitmon\n",
      "die lagfin flachsterdiche die hanherrvorrungen\n",
      "die tagtrumen termeinmenschen das telstergun\n",
      "das glieddernach koltike das langhan\n",
      "die tagtrumen lerkeitlagen das trumman\n",
      "die tagtrumen lagkonen den dunggnughafmensch\n",
      "der konmein jahrkome das trumman\n",
      "das trumman runsunglagschlage die konmeinen\n",
      "die langhanen sunggliedfrauen das langhan\n"
     ]
    },
    {
     "name": "stderr",
     "output_type": "stream",
     "text": [
      "\n"
     ]
    }
   ],
   "source": [
    "grammar = init_grammar_macro(config)\n",
    "for sent in generate_sentences(grammar, start_state='START', vbox_theme=\"deutsch\", num_to_generate=10):\n",
    "    print(sent)"
   ]
  },
  {
   "cell_type": "markdown",
   "metadata": {},
   "source": [
    "Observe that each noun always gets assigned a consistent gender."
   ]
  },
  {
   "cell_type": "code",
   "execution_count": null,
   "metadata": {},
   "outputs": [],
   "source": []
  },
  {
   "cell_type": "code",
   "execution_count": null,
   "metadata": {},
   "outputs": [],
   "source": []
  }
 ],
 "metadata": {
  "kernelspec": {
   "display_name": "Python 3 (ipykernel)",
   "language": "python",
   "name": "python3"
  },
  "language_info": {
   "codemirror_mode": {
    "name": "ipython",
    "version": 3
   },
   "file_extension": ".py",
   "mimetype": "text/x-python",
   "name": "python",
   "nbconvert_exporter": "python",
   "pygments_lexer": "ipython3",
   "version": "3.8.13"
  }
 },
 "nbformat": 4,
 "nbformat_minor": 2
}
