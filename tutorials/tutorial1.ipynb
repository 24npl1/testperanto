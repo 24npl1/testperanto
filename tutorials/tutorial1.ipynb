{
 "cells": [
  {
   "cell_type": "markdown",
   "metadata": {},
   "source": [
    "testperanto tutorial 1: our first fake words\n",
    "-------------------------------------------------\n",
    "\n",
    "Let's begin with the following piece of code."
   ]
  },
  {
   "cell_type": "code",
   "execution_count": null,
   "metadata": {},
   "outputs": [],
   "source": [
    "from testperanto.config import init_wrig, generate_sentences\n",
    "\n",
    "config = {\"grammar\": [\n",
    "            {\"rule\": \"START -> NN\"},\n",
    "            {\"rule\": \"NN -> (@verbatim apple)\"},\n",
    "            {\"rule\": \"NN -> (@verbatim banana)\"}\n",
    "          ]}\n",
    "grammar = init_wrig(config)\n",
    "for sent in generate_sentences(grammar, start_state='START', num_to_generate=10):\n",
    "    print(sent)"
   ]
  },
  {
   "cell_type": "markdown",
   "metadata": {},
   "source": [
    "This defines (and generates some sentences from) a simple context-free grammar (WRIG is short for weighted random-access indexed grammar, a generalization of a CFG that we will learn more about during these tutorials). Nonterminals should always start with a capital letter, whereas terminals should be enclosed by parentheses. Syntactically, these terminals are the only departure from a typical CFG. Terminals should be expressed in the format:\n",
    "\n",
    "    (@vbox vinput)\n",
    "\n",
    "where ```vbox``` is the name of the \"voicebox\" we want to use, and ```vinput``` is the input to the voicebox. In ```testperanto```, the role of the voicebox is to translate generic words into specific words, for instance, mapping something like ```noun.52``` to the word apple. The most straightforward voicebox is the ```verbatim``` voicebox, which simply renders words verbatim. \n",
    "\n",
    "Applicable rules are chosen randomly, with probability proportional to their weights. By default, each rule has a equivalent weight of ```1.0```, so you should have seen a roughly equal proportion of apples and bananas. But we can specify different rule weights:"
   ]
  },
  {
   "cell_type": "code",
   "execution_count": null,
   "metadata": {},
   "outputs": [],
   "source": [
    "config = {\"grammar\": [\n",
    "            {\"rule\": \"START -> NN\"},\n",
    "            {\"rule\": \"NN -> (@verbatim apple)\", \"base_weight\": 0.2},\n",
    "            {\"rule\": \"NN -> (@verbatim banana)\", \"base_weight\": 0.8}\n",
    "          ]}\n",
    "grammar = init_wrig(config)\n",
    "for sent in generate_sentences(grammar, start_state='START', num_to_generate=10):\n",
    "    print(sent)"
   ]
  },
  {
   "cell_type": "markdown",
   "metadata": {},
   "source": [
    "This should generate more bananas than apples. Rather than choose words ourselves, we can get ```testperanto``` to come up with words for us. For instance:"
   ]
  },
  {
   "cell_type": "code",
   "execution_count": null,
   "metadata": {},
   "outputs": [],
   "source": [
    "config = {\"grammar\": [\n",
    "            {\"rule\": \"START -> NN\"},\n",
    "            {\"rule\": \"NN -> (@nn (STEM noun.52) (COUNT sng))\"}\n",
    "          ]}\n",
    "grammar = init_wrig(config)\n",
    "for sent in generate_sentences(grammar, start_state='START', num_to_generate=5):\n",
    "    print(sent)"
   ]
  },
  {
   "cell_type": "markdown",
   "metadata": {},
   "source": [
    "The default voicebox theme is ```\"english\"```, and thus uses English morphology. For instance, if we ask for a plural noun, it will add an ```\"s\"```."
   ]
  },
  {
   "cell_type": "code",
   "execution_count": null,
   "metadata": {},
   "outputs": [],
   "source": [
    "config = {\"grammar\": [\n",
    "            {\"rule\": \"START -> NN\"},\n",
    "            {\"rule\": \"NN -> (@nn (STEM noun.34) (COUNT plu))\"}\n",
    "          ]}\n",
    "grammar = init_wrig(config)\n",
    "for sent in generate_sentences(grammar, start_state='START', num_to_generate=5):\n",
    "    print(sent)"
   ]
  },
  {
   "cell_type": "markdown",
   "metadata": {},
   "source": [
    "The ```\"english\"``` theme ends verbs with the suffix ```-ize```, and can perform some simple tenses and conjugations."
   ]
  },
  {
   "cell_type": "code",
   "execution_count": null,
   "metadata": {},
   "outputs": [],
   "source": [
    "config = {\"grammar\": [\n",
    "            {\"rule\": \"START -> VB\"},\n",
    "            {\"rule\": \"VB -> (@verbatim present:) (@vb (STEM verb.281) (COUNT sng) (PERSON 3) (TENSE present))\"},\n",
    "            {\"rule\": \"VB -> (@verbatim perfect:) (@vb (STEM verb.281) (COUNT sng) (PERSON 3) (TENSE perfect))\"}\n",
    "          ]}\n",
    "grammar = init_wrig(config)\n",
    "for sent in generate_sentences(grammar, start_state='START', num_to_generate=10):\n",
    "    print(sent)"
   ]
  },
  {
   "cell_type": "markdown",
   "metadata": {},
   "source": [
    "As an example of an alternative theme, ```testperanto``` also provides the stub of a Romanized ```\"japanese\"``` theme. Note that we don't need to recreate the grammar, we just render the generic words with a different voicebox."
   ]
  },
  {
   "cell_type": "code",
   "execution_count": null,
   "metadata": {},
   "outputs": [],
   "source": [
    "import testperanto.wordgenerators\n",
    "import testperanto.voicebox\n",
    "for sent in generate_sentences(grammar, start_state='START', num_to_generate=10, vbox_theme=\"japanese\"):\n",
    "    print(sent)"
   ]
  },
  {
   "cell_type": "code",
   "execution_count": null,
   "metadata": {},
   "outputs": [],
   "source": []
  }
 ],
 "metadata": {
  "kernelspec": {
   "display_name": "Python 3 (ipykernel)",
   "language": "python",
   "name": "python3"
  },
  "language_info": {
   "codemirror_mode": {
    "name": "ipython",
    "version": 3
   },
   "file_extension": ".py",
   "mimetype": "text/x-python",
   "name": "python",
   "nbconvert_exporter": "python",
   "pygments_lexer": "ipython3",
   "version": "3.8.13"
  }
 },
 "nbformat": 4,
 "nbformat_minor": 2
}
